{
 "cells": [
  {
   "cell_type": "code",
   "execution_count": 1,
   "metadata": {
    "collapsed": true,
    "slideshow": {
     "slide_type": "skip"
    }
   },
   "outputs": [],
   "source": [
    "# Add all necessary imports here\n",
    "import matplotlib.pyplot as plt\n",
    "%matplotlib inline\n",
    "plt.style.reload_library()\n",
    "plt.style.use(\"ggplot\")"
   ]
  },
  {
   "cell_type": "markdown",
   "metadata": {
    "slideshow": {
     "slide_type": "skip"
    }
   },
   "source": [
    "### Cover Slide 1"
   ]
  },
  {
   "cell_type": "raw",
   "metadata": {
    "slideshow": {
     "slide_type": "slide"
    }
   },
   "source": [
    "<image>\n",
    "<section data-background=\"img/divider/multiscale_reaction_diffusion_2014.jpg\" data-state=\"img-transparent no-title-footer\">\n",
    "<div class=\"intro-body\">\n",
    "<div class=\"intro_h1\"><h1>Using NetCDF in Jupyter notebooks </h1></div>\n",
    "<h3>Examples from collections at the National Computational Infrastructure (NCI)</h3>\n",
    "<p><strong><span class=\"a\">Nigel Rees</span></strong> <span class=\"b\"></span> <span>Research Data Management Specialist</span></p>\n",
    "</div>\n",
    "</section>\n",
    "</image>"
   ]
  },
  {
   "cell_type": "raw",
   "metadata": {
    "slideshow": {
     "slide_type": "skip"
    }
   },
   "source": [
    "<image>\n",
    "</section>\n",
    "<section data-background=\"img/divider/dedritic_growth_2010.jpg\" data-state=\"img-transparent no-title-footer\">\n",
    "  <div class=\"divider_h1\">\n",
    "    <h1><span style=\"color:#F27C3A\">Using NetCDF in Jupyter notebooks</span></h1>\n",
    "  </div>\n",
    "</section>\n",
    "</image>"
   ]
  },
  {
   "cell_type": "markdown",
   "metadata": {
    "slideshow": {
     "slide_type": "skip"
    }
   },
   "source": [
    "### Divider"
   ]
  },
  {
   "cell_type": "raw",
   "metadata": {
    "raw_mimetype": "text/html",
    "slideshow": {
     "slide_type": "slide"
    }
   },
   "source": [
    "<image>\n",
    "</section>\n",
    "<section data-background=\"img/divider/strange_attractor_2014.jpg\" data-state=\"no-title-footer\">\n",
    "  <div class=\"divider_h1\">\n",
    "    <h1><span style=\"color:#F27C3A\">Introduction to netCDF</span></h1>\n",
    "  </div>\n",
    "</section>\n",
    "</image>"
   ]
  },
  {
   "cell_type": "markdown",
   "metadata": {
    "slideshow": {
     "slide_type": "slide"
    }
   },
   "source": [
    "<body bgcolor=\"white\">\n",
    "\n",
    "<img src=\"img/intro/netcdf.png\" width=\"150\"\n",
    "     alt=\"netcdf\"\n",
    "     style=\"float: right; margin-right: 100px;\" />\n",
    "     \n",
    "<h3><span style=\"color:orange\">Network Common Data Form (NetCDF)</span></h3>\n",
    "      "
   ]
  },
  {
   "cell_type": "markdown",
   "metadata": {
    "slideshow": {
     "slide_type": "fragment"
    }
   },
   "source": [
    "<body bgcolor=\"white\">\n",
    "\n",
    "* NetCDF is both a data format and a set of libraries to read and write the format in many commonly used programming languages."
   ]
  },
  {
   "cell_type": "markdown",
   "metadata": {
    "slideshow": {
     "slide_type": "fragment"
    }
   },
   "source": [
    "* A de-facto standard in the climate and marine science communities due to it's simplicity of use, robust software and portability."
   ]
  },
  {
   "cell_type": "markdown",
   "metadata": {
    "slideshow": {
     "slide_type": "fragment"
    }
   },
   "source": [
    "* Supports the creation, access and sharing of array-oriented scientific data"
   ]
  },
  {
   "cell_type": "markdown",
   "metadata": {
    "slideshow": {
     "slide_type": "subslide"
    }
   },
   "source": [
    "<body bgcolor=\"white\">\n",
    "    \n",
    "<img src=\"img/intro/unidata.jpg\" width=\"150\"\n",
    "     alt=\"unidata logo\"\n",
    "     style=\"float: left; margin-right: 5px;\" />\n",
    "\n",
    "<img src=\"img/intro/UCAR.jpeg\" width=\"300\"\n",
    "     alt=\"UCAR logo\"\n",
    "     style=\"float: center; margin-left: 200px;\" />\n",
    "     \n",
    "<img src=\"img/intro/NSF.jpg\" width=\"150\"\n",
    "     alt=\"NSF logo\"\n",
    "     style=\"float: center; margin-left: 300px;\" />\n",
    "\n",
    "\n",
    "<br>\n",
    "\n",
    "\n",
    "* Developed and maintained at [Unidata](https://www.unidata.ucar.edu/), which is part of the [University Corporation for Atmospheric Research (UCAR)](https://www.ucar.edu/). Unidata is primarily funded by the [National Science Foundation (NSF)](https://nsf.gov/).\n",
    "\n",
    "\n",
    "\n",
    "\n",
    "\n"
   ]
  },
  {
   "cell_type": "markdown",
   "metadata": {
    "slideshow": {
     "slide_type": "subslide"
    }
   },
   "source": [
    "* Project started in 1989 \n"
   ]
  },
  {
   "cell_type": "markdown",
   "metadata": {
    "slideshow": {
     "slide_type": "fragment"
    }
   },
   "source": [
    "* Version 3.x (released in 1997) used widely across the world\n"
   ]
  },
  {
   "cell_type": "markdown",
   "metadata": {
    "slideshow": {
     "slide_type": "fragment"
    }
   },
   "source": [
    "* Version 4.0 (released in 2008) allows the use of the HDF5 data file format\n"
   ]
  },
  {
   "cell_type": "markdown",
   "metadata": {
    "slideshow": {
     "slide_type": "fragment"
    }
   },
   "source": [
    "* Version 4.1 (released in 2010) adds support for C and Fortran client access to specified subsets of remote data via OPeNDAP"
   ]
  },
  {
   "cell_type": "markdown",
   "metadata": {
    "slideshow": {
     "slide_type": "fragment"
    }
   },
   "source": [
    "* NetCDF is platform independent and data are stored in a fashion that allows efficient subsetting.\n"
   ]
  },
  {
   "cell_type": "markdown",
   "metadata": {
    "slideshow": {
     "slide_type": "subslide"
    }
   },
   "source": [
    "* NetCDF libraries support multiple binary formats for netCDF files:\n",
    "    * Classic format \n",
    "    * 64-bit offset format\n",
    "    * netCDF-4/HDF5\n"
   ]
  },
  {
   "cell_type": "markdown",
   "metadata": {
    "slideshow": {
     "slide_type": "slide"
    }
   },
   "source": [
    "<h3><span style=\"color:orange\"> NetCDF-4 project</span></h3>\n",
    "\n",
    "* NetCDF-4 project uses HDF5 as data storage layer and allows for parallel I/O for high performance computing\n",
    "\n"
   ]
  },
  {
   "cell_type": "markdown",
   "metadata": {
    "slideshow": {
     "slide_type": "fragment"
    }
   },
   "source": [
    "* NetCDF-4 provides both read and write access to all earlier forms of netCDF."
   ]
  },
  {
   "cell_type": "markdown",
   "metadata": {
    "slideshow": {
     "slide_type": "slide"
    }
   },
   "source": [
    "<h3><span style=\"color:orange\"> What is the structure of a NetCDF file?</span></h3>\n",
    "\n",
    "A NetCDF file is made up of three basic components:"
   ]
  },
  {
   "cell_type": "markdown",
   "metadata": {
    "slideshow": {
     "slide_type": "fragment"
    }
   },
   "source": [
    " * variables\n",
    "     - The variables store the actual data "
   ]
  },
  {
   "cell_type": "markdown",
   "metadata": {
    "slideshow": {
     "slide_type": "fragment"
    }
   },
   "source": [
    "* dimensions\n",
    "    - The dimensions give the relevant dimension (axis) information for the variables"
   ]
  },
  {
   "cell_type": "markdown",
   "metadata": {
    "slideshow": {
     "slide_type": "fragment"
    }
   },
   "source": [
    "* attributes\n",
    "    - The attributes provide auxiliary information about the variable (local) or dataset (global)."
   ]
  },
  {
   "cell_type": "markdown",
   "metadata": {
    "slideshow": {
     "slide_type": "slide"
    }
   },
   "source": [
    "<h3><span style=\"color:orange\">The CF metadata conventions for NetCDF</span></h3>\n",
    "\n",
    "* The Climate and Forecasts (CF) Metadata Conventions are guidelines and recommendations as to where to put information within a netCDF file. \n",
    "\n",
    "\n"
   ]
  },
  {
   "cell_type": "markdown",
   "metadata": {
    "slideshow": {
     "slide_type": "fragment"
    }
   },
   "source": [
    "* CF conventions allow the creator of the dataset to include information about the data and the dataset itself (metadata) in a structured way, which makes it easier for other users to retrieve the information. "
   ]
  },
  {
   "cell_type": "markdown",
   "metadata": {
    "slideshow": {
     "slide_type": "slide"
    }
   },
   "source": [
    "<img src=\"img/intro/netcdf.png\" width=\"150\"\n",
    "     alt=\"netcdf\"\n",
    "     style=\"float: right; margin-right: 100px;\" />\n",
    "     \n",
    "<h3><span style=\"color:orange\">Network Common Data Form (NetCDF)</span></h3>\n",
    "     "
   ]
  },
  {
   "cell_type": "markdown",
   "metadata": {
    "slideshow": {
     "slide_type": "fragment"
    }
   },
   "source": [
    "* **Self-Describing** - A netCDF file includes information about the data it contains."
   ]
  },
  {
   "cell_type": "markdown",
   "metadata": {
    "slideshow": {
     "slide_type": "fragment"
    }
   },
   "source": [
    "* **Portable** - A netCDF file can be accessed by computers with different ways of storing integers, characters, and floating-point numbers."
   ]
  },
  {
   "cell_type": "markdown",
   "metadata": {
    "slideshow": {
     "slide_type": "fragment"
    }
   },
   "source": [
    "* **Scalable** - A small subset of a large dataset may be accessed efficiently."
   ]
  },
  {
   "cell_type": "markdown",
   "metadata": {
    "slideshow": {
     "slide_type": "subslide"
    }
   },
   "source": [
    "<img src=\"img/intro/netcdf.png\" width=\"150\"\n",
    "     alt=\"netcdf\"\n",
    "     style=\"float: right; margin-right: 100px;\" />\n",
    "     \n",
    "<h3><span style=\"color:orange\">Network Common Data Form (NetCDF)</span></h3>\n",
    "\n",
    "<br>\n",
    "\n",
    "* **Appendable** - Data may be appended to a properly structured netCDF file without copying the dataset or redefining its structure."
   ]
  },
  {
   "cell_type": "markdown",
   "metadata": {
    "slideshow": {
     "slide_type": "fragment"
    }
   },
   "source": [
    "* **Sharable** - One writer and multiple readers may simultaneously access the same netCDF file."
   ]
  },
  {
   "cell_type": "markdown",
   "metadata": {
    "slideshow": {
     "slide_type": "fragment"
    }
   },
   "source": [
    "* **Archivable** - Access to all earlier forms of netCDF data will be supported by current and future versions of the software."
   ]
  },
  {
   "cell_type": "markdown",
   "metadata": {
    "slideshow": {
     "slide_type": "skip"
    }
   },
   "source": [
    "<h3><span style=\"color:orange\">NetCDF - multidimensional array data containers</span></h3>\n",
    "\n",
    "<t2>Tuning parameters affecting performance:\n",
    "<ul>\n",
    "    <li><span style=\"color:blue\">Order of dimensions</span></li>\n",
    "    last dim is contiguous, rest are stridded.\n",
    "<li><span style=\"color:blue\">Chunk shape</span></li>\n",
    "    Dramatically speeds access along chunked dimensions.\n",
    "<li><span style=\"color:blue\">Compression (per chunk)</span></li>\n",
    "    Reduces size but slows access to individual chunks\n",
    "</ul>\n",
    "\n",
    "</t2>\n",
    "\n",
    "<img src=\"img/intro/chunking.png\" width=\"450\"\n",
    "     alt=\"chunking\"\n",
    "     style=\"float: right; margin-right: 150px;\" />\n",
    "\n",
    "<t3> https://www.unidata.ucar.edu </t3>"
   ]
  },
  {
   "cell_type": "markdown",
   "metadata": {
    "slideshow": {
     "slide_type": "skip"
    }
   },
   "source": [
    "<h3><span style=\"color:orange\">The OPeNDAP Client</span></h3>\n",
    "\n",
    "Open-source Project for a Network Data Access Protocol\n",
    "\n",
    "* Web service architecture, HTTP-based protocol that enables scientists to share data more easily over the internet\n",
    "\n",
    "* Defined and maintained by the OPeNDAP organisation\n",
    "\n",
    "* Special URL required to acceess DAP data sources\n"
   ]
  },
  {
   "cell_type": "markdown",
   "metadata": {
    "slideshow": {
     "slide_type": "skip"
    }
   },
   "source": [
    "### Divider"
   ]
  },
  {
   "cell_type": "raw",
   "metadata": {
    "raw_mimetype": "text/html",
    "slideshow": {
     "slide_type": "slide"
    }
   },
   "source": [
    "<image>\n",
    "</section>\n",
    "<section data-background=\"img/divider/3262275527.jpg\" data-state=\"no-title-footer\">\n",
    "  <div class=\"divider_h1\">\n",
    "    <h1><span style=\"color:white\">Example applications using netCDF</span></h1>\n",
    "  </div>\n",
    "</section>\n",
    "</image>"
   ]
  },
  {
   "cell_type": "markdown",
   "metadata": {
    "slideshow": {
     "slide_type": "slide"
    }
   },
   "source": [
    "<h3><span style=\"color:orange\">Application software examples</span></h3>"
   ]
  },
  {
   "cell_type": "markdown",
   "metadata": {
    "slideshow": {
     "slide_type": "fragment"
    }
   },
   "source": [
    "<span style=\"color:red;font-weight:bold\">NCO (NetCDF Operators suite)</span>: unix command line utilities providing a range of commands for manipulating netCDF files including concatination, array slicing and averaging"
   ]
  },
  {
   "cell_type": "markdown",
   "metadata": {
    "slideshow": {
     "slide_type": "fragment"
    }
   },
   "source": [
    "<span style=\"color:red;font-weight:bold\">ncview</span>: visual browser for netCDF file format files."
   ]
  },
  {
   "cell_type": "markdown",
   "metadata": {
    "slideshow": {
     "slide_type": "fragment"
    }
   },
   "source": [
    "<span style=\"color:red;font-weight:bold\">Panoply</span>: netCDF file viewer developed by NASA - presents geo-gridded data"
   ]
  },
  {
   "cell_type": "markdown",
   "metadata": {
    "slideshow": {
     "slide_type": "fragment"
    }
   },
   "source": [
    "<span style=\"color:red;font-weight:bold\">Python</span>: netCDF files can be read with the netCDF4-python module"
   ]
  },
  {
   "cell_type": "markdown",
   "metadata": {
    "slideshow": {
     "slide_type": "fragment"
    }
   },
   "source": [
    "and many more..."
   ]
  },
  {
   "cell_type": "markdown",
   "metadata": {
    "slideshow": {
     "slide_type": "slide"
    }
   },
   "source": [
    "<h3><span style=\"color:orange\">ncdump</span></h3>\n",
    "<img src=\"img/apps/netcdf_tools.png\" width=\"750\"\n",
    "     alt=\"netcdf\"\n",
    "     style=\"float: left; margin-left: 50px;\" />\n",
    "     "
   ]
  },
  {
   "cell_type": "markdown",
   "metadata": {
    "slideshow": {
     "slide_type": "subslide"
    }
   },
   "source": [
    "<h3><span style=\"color:orange\">Collections are being accessed and utilised from a broad range of options</span></h3>\n",
    "\n",
    "<span style=\"color:blue;font-weight:bold\"> 1) Direct access on filesystem </span>\n",
    "\n",
    "<img src=\"img/apps/raijin.jpg\" width=\"650\"\n",
    "     alt=\"raijin\"\n",
    "     style=\"float: left; margin-left: 50px;\" />"
   ]
  },
  {
   "cell_type": "markdown",
   "metadata": {
    "slideshow": {
     "slide_type": "subslide"
    }
   },
   "source": [
    "<span style=\"color:blue;font-weight:bold\"> 2) Web and data services </span>\n",
    "\n",
    "<img src=\"img/apps/thredds.png\" width=\"570\"\n",
    "     alt=\"thredds\"\n",
    "     style=\"float: left; margin-left: 50px;\" />\n"
   ]
  },
  {
   "cell_type": "markdown",
   "metadata": {
    "slideshow": {
     "slide_type": "subslide"
    }
   },
   "source": [
    "<h3><span style=\"color:orange\">What is THREDDS?</span></h3>"
   ]
  },
  {
   "cell_type": "markdown",
   "metadata": {
    "slideshow": {
     "slide_type": "fragment"
    }
   },
   "source": [
    "<span style=\"color:red;font-weight:bold\">THREDDS (Thematic Realtime Environmental Distributed Data Services) Data Server:</span> \n",
    "Allows for browsing and accessing of data (as well as metadata)\n",
    "    \n",
    "| <t4>Name</t4>                         | <t4>Description</t4>                                                  |\n",
    "|:-------------------------------------:|:---------------------------------------------------------------------:|\n",
    "| <t4>OPeNDAP (DAP2)</t4>               | <t4>Protocol enabling data access and subsetting through the web</t4> |\n",
    "| <t4>NetCDF Subset Service (NCSS)</t4> | <t4>Web service for subsetting netCDF files</t4>                      |\n",
    "| <t4>Web Map Service (WMS)</t4>        | <t4>OGC web service for requesting static images of data </t4>        | \n",
    "| <t4>Web Coverage Service (WCS)</t4>   | <t4>OGC web service for requesting data in some output format</t4>    |\n",
    "| <t4>Godiva Data Viewer</t4>           | <t4>Tool for simple visualisation of data</t4>                        |\n",
    "| <t4>HTTP File Download</t4>           | <t4>Direct downloading</t4>                                           |\n",
    "\n",
    "[NCI THREDDS Data Server](http://dapds00.nci.org.au/thredds/catalog.html)"
   ]
  },
  {
   "cell_type": "markdown",
   "metadata": {
    "slideshow": {
     "slide_type": "subslide"
    }
   },
   "source": [
    "<span style=\"color:blue;font-weight:bold\"> 3) Data portals </span>\n",
    "\n",
    "<img src=\"img/apps/vgl.png\" width=\"350\"\n",
    "     alt=\"vgl\"\n",
    "     style=\"float: left; margin-left: 0px;\" />\n",
    "\n",
    "<img src=\"img/apps/ereefs.png\" width=\"400\"\n",
    "     alt=\"ereefs\"\n",
    "     style=\"float: right; margin-right: 0px;\" />"
   ]
  },
  {
   "cell_type": "markdown",
   "metadata": {
    "slideshow": {
     "slide_type": "subslide"
    }
   },
   "source": [
    "<span style=\"color:blue;font-weight:bold\"> 4) Virtual labs (e.g., virtual desktops) </span>\n",
    "\n",
    "<img src=\"img/apps/vdi.png\" width=\"900\"\n",
    "     alt=\"vdi\"\n",
    "     style=\"float: left; margin-left: 50px;\" />"
   ]
  },
  {
   "cell_type": "markdown",
   "metadata": {
    "slideshow": {
     "slide_type": "skip"
    }
   },
   "source": [
    "### Divider"
   ]
  },
  {
   "cell_type": "raw",
   "metadata": {
    "raw_mimetype": "text/html",
    "slideshow": {
     "slide_type": "slide"
    }
   },
   "source": [
    "<image>\n",
    "</section>\n",
    "<section data-background=\"img/divider/dedritic_growth_2011.jpg\" data-state=\"no-title-footer\">\n",
    "  <div class=\"divider_h1\">\n",
    "    <h1><span style=\"color:#F27C3A\">Example netCDF Jupyter notebooks </span></h1>\n",
    "  </div>\n",
    "</section>\n",
    "</image>"
   ]
  },
  {
   "cell_type": "markdown",
   "metadata": {
    "slideshow": {
     "slide_type": "slide"
    }
   },
   "source": [
    "<h3><span style=\"color:orange\">What is Jupyter?</span></h3>\n",
    "\n",
    "* formerly known as *IPython* (\"interactive Python\")\n",
    "* an open-source web application that allows you to create and share documents that contain live code, equations, visualisations and narrative text.\n",
    "* makes data analysis easier to record, understand and reproduce\n",
    "* https://jupyter.org/"
   ]
  },
  {
   "cell_type": "markdown",
   "metadata": {
    "slideshow": {
     "slide_type": "subslide"
    }
   },
   "source": [
    "<h3><span style=\"color:orange\">Jupyter supports over 40 programming languages including:</span></h3>\n",
    "  \n",
    "  * Python (https://www.python.org/)\n",
    "  \n",
    "  * Julia (http://julialang.org/)\n",
    "  \n",
    "  * R (http://www.r-project.org/)\n",
    "  \n",
    "  * and many others ..."
   ]
  },
  {
   "cell_type": "markdown",
   "metadata": {
    "slideshow": {
     "slide_type": "slide"
    }
   },
   "source": [
    "<h3><span style=\"color:orange\">Open/read file</span></h3>\n",
    "\n",
    "\n",
    "The <span style=\"color:red\">Dataset</span> function is used to open a file with Python's netCDF4 library.\n"
   ]
  },
  {
   "cell_type": "markdown",
   "metadata": {
    "slideshow": {
     "slide_type": "skip"
    }
   },
   "source": [
    "For local files, this will be the filepath (i.e., /g/data...) while for remote access, this will be the OPeNDAP data URL. Note that this does not yet load/extract any data, just opens the file.\n"
   ]
  },
  {
   "cell_type": "code",
   "execution_count": 13,
   "metadata": {
    "slideshow": {
     "slide_type": "subslide"
    }
   },
   "outputs": [],
   "source": [
    "# Import python libraries\n",
    "\n",
    "from netCDF4 import Dataset\n",
    "import matplotlib.pyplot as plt \n",
    "%matplotlib inline"
   ]
  },
  {
   "cell_type": "code",
   "execution_count": 14,
   "metadata": {
    "slideshow": {
     "slide_type": "fragment"
    }
   },
   "outputs": [],
   "source": [
    "url = 'http://dapds00.nci.org.au/thredds/dodsC/rs0/datacube/002/LS8_OLI_NBART/-10_-28/LS8_OLI_NBART_3577_-10_-28_2013_v1493805443.nc'"
   ]
  },
  {
   "cell_type": "code",
   "execution_count": 15,
   "metadata": {
    "slideshow": {
     "slide_type": "fragment"
    }
   },
   "outputs": [],
   "source": [
    "f = Dataset(url, 'r')"
   ]
  },
  {
   "cell_type": "code",
   "execution_count": 5,
   "metadata": {
    "slideshow": {
     "slide_type": "subslide"
    }
   },
   "outputs": [
    {
     "name": "stdout",
     "output_type": "stream",
     "text": [
      "maxStrlen64 64\n",
      "time 62\n",
      "x 4000\n",
      "y 4000\n"
     ]
    }
   ],
   "source": [
    "for item in f.dimensions:\n",
    "    print(f.dimensions[item].name, f.dimensions[item].size)"
   ]
  },
  {
   "cell_type": "code",
   "execution_count": 12,
   "metadata": {
    "slideshow": {
     "slide_type": "subslide"
    }
   },
   "outputs": [
    {
     "name": "stdout",
     "output_type": "stream",
     "text": [
      "Variable: \t time\n",
      "Dimensions: \t ('time',)\n",
      "Shape:    \t (62,) \n",
      "\n",
      "Variable: \t y\n",
      "Dimensions: \t ('y',)\n",
      "Shape:    \t (4000,) \n",
      "\n",
      "Variable: \t x\n",
      "Dimensions: \t ('x',)\n",
      "Shape:    \t (4000,) \n",
      "\n",
      "Variable: \t crs\n",
      "Dimensions: \t ()\n",
      "Shape:    \t () \n",
      "\n",
      "Variable: \t dataset\n",
      "Dimensions: \t ('time', 'maxStrlen64')\n",
      "Shape:    \t (62, 64) \n",
      "\n",
      "Variable: \t coastal_aerosol\n",
      "Dimensions: \t ('time', 'y', 'x')\n",
      "Shape:    \t (62, 4000, 4000) \n",
      "\n",
      "Variable: \t blue\n",
      "Dimensions: \t ('time', 'y', 'x')\n",
      "Shape:    \t (62, 4000, 4000) \n",
      "\n",
      "Variable: \t green\n",
      "Dimensions: \t ('time', 'y', 'x')\n",
      "Shape:    \t (62, 4000, 4000) \n",
      "\n",
      "Variable: \t red\n",
      "Dimensions: \t ('time', 'y', 'x')\n",
      "Shape:    \t (62, 4000, 4000) \n",
      "\n",
      "Variable: \t nir\n",
      "Dimensions: \t ('time', 'y', 'x')\n",
      "Shape:    \t (62, 4000, 4000) \n",
      "\n",
      "Variable: \t swir1\n",
      "Dimensions: \t ('time', 'y', 'x')\n",
      "Shape:    \t (62, 4000, 4000) \n",
      "\n",
      "Variable: \t swir2\n",
      "Dimensions: \t ('time', 'y', 'x')\n",
      "Shape:    \t (62, 4000, 4000) \n",
      "\n"
     ]
    }
   ],
   "source": [
    "vars = f.variables.keys()\n",
    "for item in vars:\n",
    "    print('Variable: \\t', item)\n",
    "    print('Dimensions: \\t', f[item].dimensions)\n",
    "    print('Shape:    \\t', f[item].shape, '\\n')\n"
   ]
  },
  {
   "cell_type": "markdown",
   "metadata": {
    "slideshow": {
     "slide_type": "skip"
    }
   },
   "source": [
    "## Example notebooks\n",
    "\n",
    "[exercises for the lecture \"communication acoustics\"](http://nbviewer.ipython.org/github/spatialaudio/communication-acoustics-exercises/blob/master/index.ipynb)"
   ]
  },
  {
   "cell_type": "markdown",
   "metadata": {
    "slideshow": {
     "slide_type": "skip"
    }
   },
   "source": [
    "### Divider"
   ]
  },
  {
   "cell_type": "raw",
   "metadata": {
    "raw_mimetype": "text/html",
    "slideshow": {
     "slide_type": "slide"
    }
   },
   "source": [
    "<image>\n",
    "</section>\n",
    "<section data-background=\"img/divider/2dfluidflow.jpg\" data-state=\"no-title-footer\">\n",
    "  <div class=\"divider_h1\">\n",
    "    <h1><span style=\"color:white\">Summary</span></h1>\n",
    "  </div>\n",
    "</section>\n",
    "</image>"
   ]
  },
  {
   "cell_type": "markdown",
   "metadata": {
    "slideshow": {
     "slide_type": "slide"
    }
   },
   "source": [
    "<h3><span style=\"color:orange\"> Advantages of using netCDF </span></h3>"
   ]
  },
  {
   "cell_type": "markdown",
   "metadata": {
    "slideshow": {
     "slide_type": "fragment"
    }
   },
   "source": [
    "* Open format and open source tools\n",
    "    - Accessing data is easily done through common libraries."
   ]
  },
  {
   "cell_type": "markdown",
   "metadata": {
    "slideshow": {
     "slide_type": "fragment"
    }
   },
   "source": [
    "* NetCDF is self describing - data definitions are available through the file header so no additional supplementary metadata files are required"
   ]
  },
  {
   "cell_type": "markdown",
   "metadata": {
    "slideshow": {
     "slide_type": "fragment"
    }
   },
   "source": [
    "* NetCDF4 allows for storage of n-dimensional data \n",
    "    - can store all sized data at once \n",
    "    "
   ]
  },
  {
   "cell_type": "markdown",
   "metadata": {},
   "source": [
    "* Can be optimised for HPC data setting\n",
    "    - netCDF4 offers chunking and compression options"
   ]
  },
  {
   "cell_type": "markdown",
   "metadata": {
    "slideshow": {
     "slide_type": "subslide"
    }
   },
   "source": [
    "<h3><span style=\"color:orange\"> Advantages of using netCDF </span></h3>"
   ]
  },
  {
   "cell_type": "markdown",
   "metadata": {
    "slideshow": {
     "slide_type": "fragment"
    }
   },
   "source": [
    "* THREDDS Data Server has many tools for acceessing netCDF files:\n",
    "    - Can move away from the download era"
   ]
  },
  {
   "cell_type": "markdown",
   "metadata": {
    "slideshow": {
     "slide_type": "fragment"
    }
   },
   "source": [
    "* Strong usage in many research communities (e.g. Climate and marine science communities)"
   ]
  },
  {
   "cell_type": "markdown",
   "metadata": {
    "slideshow": {
     "slide_type": "fragment"
    }
   },
   "source": [
    "* Open format and open source tools"
   ]
  },
  {
   "cell_type": "markdown",
   "metadata": {
    "slideshow": {
     "slide_type": "fragment"
    }
   },
   "source": [
    "* NetCDF-4 supports parallel read/write access to netCDF-4/HDF5 files, using the underlying HDF5 library."
   ]
  },
  {
   "cell_type": "markdown",
   "metadata": {
    "slideshow": {
     "slide_type": "subslide"
    }
   },
   "source": [
    "<h3><span style=\"color:orange\"> Disadvantages of netCDF </span></h3>"
   ]
  },
  {
   "cell_type": "markdown",
   "metadata": {
    "slideshow": {
     "slide_type": "fragment"
    }
   },
   "source": [
    "* Steep learning curve if never used before\n",
    " - can be hard to write to\n",
    " - documentation takes requires a lot of effort to understand"
   ]
  },
  {
   "cell_type": "markdown",
   "metadata": {
    "slideshow": {
     "slide_type": "fragment"
    }
   },
   "source": [
    "* Users will need to update their toolkit to view contents and visualise data"
   ]
  },
  {
   "cell_type": "markdown",
   "metadata": {
    "slideshow": {
     "slide_type": "slide"
    }
   },
   "source": [
    "# Links\n",
    "\n",
    "- Unidata NetCDF website: https://www.unidata.ucar.edu/software/netcdf/\n",
    "\n",
    "- OPeNDAP: https://www.opendap.org/\n",
    "\n",
    "- Software for Manipulating or Displaying NetCDF Data: https://www.unidata.ucar.edu/software/netcdf/software.html\n",
    "\n",
    "- All artwork by former NCI employee Jonathan McCabe: https://www.flickr.com/photos/jonathanmccabe/sets"
   ]
  },
  {
   "cell_type": "markdown",
   "metadata": {
    "slideshow": {
     "slide_type": "skip"
    }
   },
   "source": [
    "### Q&A Slide"
   ]
  },
  {
   "cell_type": "raw",
   "metadata": {
    "slideshow": {
     "slide_type": "slide"
    }
   },
   "source": [
    "<image>\n",
    "</section>\n",
    "<section data-background=\"#0093C9\" data-state=\"no-title-footer\">\n",
    "  <div class=\"divider_h1\">\n",
    "    <h1>Thankyou</h1>\n",
    "  </div>\n",
    "</section>\n",
    "</image>"
   ]
  }
 ],
 "metadata": {
  "celltoolbar": "Slideshow",
  "kernelspec": {
   "display_name": "Python 3",
   "language": "python",
   "name": "python3"
  },
  "language_info": {
   "codemirror_mode": {
    "name": "ipython",
    "version": 3
   },
   "file_extension": ".py",
   "mimetype": "text/x-python",
   "name": "python",
   "nbconvert_exporter": "python",
   "pygments_lexer": "ipython3",
   "version": "3.6.6"
  },
  "widgets": {
   "state": {},
   "version": "1.1.2"
  }
 },
 "nbformat": 4,
 "nbformat_minor": 1
}
